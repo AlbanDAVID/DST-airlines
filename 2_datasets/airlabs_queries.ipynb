{
 "cells": [
  {
   "cell_type": "code",
   "execution_count": 1,
   "id": "99cd7f75",
   "metadata": {},
   "outputs": [],
   "source": [
    "import requests\n",
    "import json\n",
    "import pandas as pd\n",
    "from pandas import json_normalize"
   ]
  },
  {
   "cell_type": "markdown",
   "id": "53481a00",
   "metadata": {
    "heading_collapsed": "true"
   },
   "source": [
    "## Interrogation API Airlabs du 13/07/2022 : Avion au départ de Bogota, arrivé à Madrid ayant le code IATA \"UX194\""
   ]
  },
  {
   "cell_type": "code",
   "execution_count": 42,
   "id": "039d3403",
   "metadata": {},
   "outputs": [
    {
     "data": {
      "text/plain": [
       "{'aircraft_icao': 'B788',\n",
       " 'manufacturer': 'BOEING',\n",
       " 'hex': '34530C',\n",
       " 'reg_number': 'EC-MNS',\n",
       " 'flag': 'ES',\n",
       " 'lat': 33.57,\n",
       " 'lng': -21.6,\n",
       " 'alt': 12489,\n",
       " 'dir': 72,\n",
       " 'speed': 922,\n",
       " 'v_speed': -0.3,\n",
       " 'flight_number': '194',\n",
       " 'flight_icao': 'AEA194',\n",
       " 'flight_iata': 'UX194',\n",
       " 'dep_icao': 'SKBO',\n",
       " 'dep_iata': 'BOG',\n",
       " 'arr_icao': 'LEMD',\n",
       " 'arr_iata': 'MAD',\n",
       " 'airline_icao': 'AEA',\n",
       " 'airline_iata': 'UX',\n",
       " 'updated': 1657701779,\n",
       " 'status': 'en-route',\n",
       " 'dep_terminal': '1',\n",
       " 'dep_gate': None,\n",
       " 'dep_time': '2022-07-13 20:15',\n",
       " 'dep_time_utc': '2022-07-14 01:15',\n",
       " 'arr_terminal': '1',\n",
       " 'arr_gate': None,\n",
       " 'arr_baggage': None,\n",
       " 'arr_time': '2022-07-14 12:55',\n",
       " 'arr_time_utc': '2022-07-14 10:55',\n",
       " 'cs_airline_iata': None,\n",
       " 'cs_flight_number': None,\n",
       " 'cs_flight_iata': None,\n",
       " 'duration': 580,\n",
       " 'delayed': None,\n",
       " 'arr_time_ts': 1657796100,\n",
       " 'dep_time_ts': 1657761300}"
      ]
     },
     "execution_count": 42,
     "metadata": {},
     "output_type": "execute_result"
    }
   ],
   "source": [
    "api_result = requests.get(\"https://airlabs.co/api/v9/flight?flight_iata=UX194&api_key=fdab6336-d852-468d-8045-fb8350748f74\")\n",
    "api_response = api_result.json()\n",
    "\n",
    "\n",
    "api_response['response']"
   ]
  },
  {
   "cell_type": "code",
   "execution_count": 28,
   "id": "2ff9cd40",
   "metadata": {},
   "outputs": [
    {
     "data": {
      "text/plain": [
       "{'aircraft_icao': 'B789',\n",
       " 'manufacturer': 'BOEING',\n",
       " 'hex': 'AB4AE9',\n",
       " 'reg_number': 'N827AN',\n",
       " 'flag': 'US',\n",
       " 'lat': 32.24,\n",
       " 'lng': -121.01,\n",
       " 'alt': 11269,\n",
       " 'dir': 61,\n",
       " 'speed': 972,\n",
       " 'v_speed': -0.3,\n",
       " 'flight_number': '6',\n",
       " 'flight_icao': 'AAL6',\n",
       " 'flight_iata': 'AA6',\n",
       " 'dep_icao': 'PHOG',\n",
       " 'dep_iata': 'OGG',\n",
       " 'arr_icao': 'KDFW',\n",
       " 'arr_iata': 'DFW',\n",
       " 'airline_icao': 'AAL',\n",
       " 'airline_iata': 'AA',\n",
       " 'updated': 1657700657,\n",
       " 'status': 'en-route',\n",
       " 'dep_terminal': None,\n",
       " 'dep_gate': '29',\n",
       " 'dep_time': '2022-07-12 18:26',\n",
       " 'dep_time_utc': '2022-07-13 04:26',\n",
       " 'dep_estimated': '2022-07-12 18:19',\n",
       " 'dep_estimated_utc': '2022-07-13 04:19',\n",
       " 'dep_actual': '2022-07-12 18:19',\n",
       " 'dep_actual_utc': '2022-07-13 04:19',\n",
       " 'arr_terminal': 'D',\n",
       " 'arr_gate': 'D33',\n",
       " 'arr_baggage': 'D30',\n",
       " 'arr_time': '2022-07-13 06:33',\n",
       " 'arr_time_utc': '2022-07-13 11:33',\n",
       " 'arr_estimated': '2022-07-13 06:21',\n",
       " 'arr_estimated_utc': '2022-07-13 11:21',\n",
       " 'cs_airline_iata': None,\n",
       " 'cs_flight_number': None,\n",
       " 'cs_flight_iata': None,\n",
       " 'duration': 427,\n",
       " 'delayed': None,\n",
       " 'arr_time_ts': 1657711980,\n",
       " 'dep_time_ts': 1657686360,\n",
       " 'arr_estimated_ts': 1657711260,\n",
       " 'dep_estimated_ts': 1657685940,\n",
       " 'dep_actual_ts': 1657685940}"
      ]
     },
     "execution_count": 28,
     "metadata": {},
     "output_type": "execute_result"
    }
   ],
   "source": [
    "api_result = requests.get(\"https://airlabs.co/api/v9/flight?flight_iata=AA6&api_key=fdab6336-d852-468d-8045-fb8350748f74\")\n",
    "api_response = api_result.json()\n",
    "\n",
    "api_response['response']"
   ]
  },
  {
   "cell_type": "markdown",
   "id": "c64dc6d9",
   "metadata": {
    "heading_collapsed": "true"
   },
   "source": [
    "## Interrogation API Airlabs du 13/07/2022 : Informations sur l'aéroport de Bogota avec le iata_code = BOG"
   ]
  },
  {
   "cell_type": "code",
   "execution_count": 21,
   "id": "30f69060",
   "metadata": {},
   "outputs": [
    {
     "data": {
      "text/plain": [
       "[{'icao_code': 'SKBO',\n",
       "  'country_code': 'CO',\n",
       "  'iata_code': 'BOG',\n",
       "  'lng': -74.15,\n",
       "  'name': 'El Dorado International Airport',\n",
       "  'lat': 4.7}]"
      ]
     },
     "execution_count": 21,
     "metadata": {},
     "output_type": "execute_result"
    }
   ],
   "source": [
    "api_result = requests.get(\"https://airlabs.co/api/v9/airports?iata_code=BOG&api_key=fdab6336-d852-468d-8045-fb8350748f74\")\n",
    "api_response = api_result.json()\n",
    "\n",
    "api_response['response']"
   ]
  },
  {
   "cell_type": "markdown",
   "id": "80fd4310",
   "metadata": {},
   "source": [
    "## Interrogation API Airlabs du 13/07/2022 : Informations sur la compagnie gérant ce vol en utilisant le iata_code de la compagnie = \"UX\""
   ]
  },
  {
   "cell_type": "code",
   "execution_count": 34,
   "id": "20096d5e",
   "metadata": {},
   "outputs": [
    {
     "data": {
      "text/plain": [
       "[{'icao_code': 'AEA', 'iata_code': 'UX', 'name': 'Air Europa'}]"
      ]
     },
     "execution_count": 34,
     "metadata": {},
     "output_type": "execute_result"
    }
   ],
   "source": [
    "api_result = requests.get(\"https://airlabs.co/api/v9/airlines?iata_code=UX&api_key=fdab6336-d852-468d-8045-fb8350748f74\")\n",
    "api_response = api_result.json()\n",
    "\n",
    "api_response['response']"
   ]
  },
  {
   "cell_type": "code",
   "execution_count": null,
   "id": "2b40ee63",
   "metadata": {},
   "outputs": [],
   "source": []
  },
  {
   "cell_type": "code",
   "execution_count": 6,
   "id": "06dd747c",
   "metadata": {},
   "outputs": [],
   "source": [
    "api_result = requests.get(\"https://airlabs.co/api/v9/flights?api_key=fdab6336-d852-468d-8045-fb8350748f74\")\n",
    "api_response = api_result.json()"
   ]
  },
  {
   "cell_type": "code",
   "execution_count": 17,
   "id": "23cacdc5",
   "metadata": {},
   "outputs": [],
   "source": [
    "api_result2 = requests.get(\"https://airlabs.co/api/v9/airports?api_key=fdab6336-d852-468d-8045-fb8350748f74\")\n",
    "api_response2 = api_result2.json()"
   ]
  },
  {
   "cell_type": "code",
   "execution_count": 21,
   "id": "9d8f5378",
   "metadata": {},
   "outputs": [],
   "source": [
    "api_result3 = requests.get(\"https://airlabs.co/api/v9/airlines?api_key=fdab6336-d852-468d-8045-fb8350748f74\")\n",
    "api_response3 = api_result3.json()"
   ]
  },
  {
   "cell_type": "code",
   "execution_count": 22,
   "id": "3e9cbdb8",
   "metadata": {},
   "outputs": [],
   "source": [
    "with open('flights.json', 'w') as f:\n",
    "    json.dump(api_response['response'], f)\n",
    "    \n",
    "with open('airports.json', 'w') as f:\n",
    "    json.dump(api_response2['response'], f)\n",
    "    \n",
    "with open('airlines.json', 'w') as f:\n",
    "    json.dump(api_response3['response'], f)"
   ]
  }
 ],
 "metadata": {
  "kernelspec": {
   "display_name": "Python 3 (ipykernel)",
   "language": "python",
   "name": "python3"
  },
  "language_info": {
   "codemirror_mode": {
    "name": "ipython",
    "version": 3
   },
   "file_extension": ".py",
   "mimetype": "text/x-python",
   "name": "python",
   "nbconvert_exporter": "python",
   "pygments_lexer": "ipython3",
   "version": "3.9.12"
  }
 },
 "nbformat": 4,
 "nbformat_minor": 5
}

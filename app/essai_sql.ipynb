{
 "cells": [
  {
   "cell_type": "code",
   "execution_count": 120,
   "metadata": {},
   "outputs": [
    {
     "name": "stdout",
     "output_type": "stream",
     "text": [
      "{'FlightInformation': {'Flights': {'Flight': {'Departure': {'AirportCode': 'HAM', 'Scheduled': {'Date': '2022-07-28', 'Time': '12:15'}, 'Actual': {'Date': '2022-07-28', 'Time': '12:35'}, 'Terminal': {'Name': '2', 'Gate': 'A17'}, 'Status': {'Code': 'DP', 'Description': 'Flight Departed'}}, 'Arrival': {'AirportCode': 'MUC', 'Scheduled': {'Date': '2022-07-28', 'Time': '13:30'}, 'Estimated': {'Date': '2022-07-28', 'Time': '13:51'}, 'Actual': {'Date': '2022-07-28', 'Time': '13:51'}, 'Terminal': {'Name': '2', 'Gate': 'G04'}, 'Status': {'Code': 'DL', 'Description': 'Flight Delayed'}}, 'MarketingCarrierList': {'MarketingCarrier': {'AirlineID': 'OU', 'FlightNumber': '5457'}}, 'OperatingCarrier': {'AirlineID': 'LH', 'FlightNumber': '2057'}, 'Equipment': {'AircraftCode': '320'}, 'Status': {'Code': 'DL', 'Description': 'Flight Delayed'}}}, 'Meta': {'@Version': '1.0.0', 'Link': [{'@Href': 'https://api.lufthansa.com/v1/operations/customerflightinformation/LH2057/2022-07-28', '@Rel': 'self'}, {'@Href': 'https://api.lufthansa.com/v1/mds-references/airports/{airportCode}', '@Rel': 'related'}]}}}\n",
      "{'FlightInformation': {'Flights': {'Flight': {'Departure': {'AirportCode': 'HAM', 'Scheduled': {'Date': '2022-07-26', 'Time': '12:15'}, 'Actual': {'Date': '2022-07-26', 'Time': '13:04'}, 'Terminal': {'Name': '2', 'Gate': 'C16'}, 'Status': {'Code': 'DP', 'Description': 'Flight Departed'}}, 'Arrival': {'AirportCode': 'MUC', 'Scheduled': {'Date': '2022-07-26', 'Time': '13:30'}, 'Actual': {'Date': '2022-07-26', 'Time': '14:10'}, 'Terminal': {'Name': '2', 'Gate': 'K05'}, 'Status': {'Code': 'LD', 'Description': 'Flight Landed'}}, 'MarketingCarrierList': {'MarketingCarrier': {'AirlineID': 'OU', 'FlightNumber': '5457'}}, 'OperatingCarrier': {'AirlineID': 'LH', 'FlightNumber': '2057'}, 'Equipment': {'AircraftCode': '32N'}, 'Status': {'Code': 'LD', 'Description': 'Flight Landed'}}}, 'Meta': {'@Version': '1.0.0', 'Link': [{'@Href': 'https://api.lufthansa.com/v1/operations/customerflightinformation/LH2057/2022-07-26', '@Rel': 'self'}, {'@Href': 'https://api.lufthansa.com/v1/mds-references/airports/{airportCode}', '@Rel': 'related'}]}}}\n"
     ]
    },
    {
     "data": {
      "text/plain": [
       "\"\\ntest = getFlightInfoByRouteLuf('JNB', 'FRA', '2022-07-2')\\ntest.get_result()\\n\""
      ]
     },
     "execution_count": 120,
     "metadata": {},
     "output_type": "execute_result"
    }
   ],
   "source": [
    "from queries import *\n",
    "from utils import *\n",
    "\n",
    "# QUERIES API AIRLBAS\n",
    "\"\"\"\n",
    "test = getFlightAirlabs('LH2001')\n",
    "test_response = test.print_request()\n",
    "print(test_response)\n",
    "\"\"\"\n",
    "\n",
    "# QUERIES API LUFTHANSA\n",
    "\n",
    "test = getFlightInfoLuf('LH2057', '2022-07-28')\n",
    "save_result = test.get_result().json()\n",
    "print(save_result)\n",
    "\n",
    "\n",
    "test = getFlightInfoLuf('LH2057', '2022-07-26')\n",
    "save_result2 = test.get_result().json()\n",
    "print(save_result2)\n",
    "\n",
    "\"\"\"\n",
    "test = getFlightInfoByRouteLuf('JNB', 'FRA', '2022-07-2')\n",
    "test.get_result()\n",
    "\"\"\""
   ]
  },
  {
   "cell_type": "code",
   "execution_count": 137,
   "metadata": {},
   "outputs": [],
   "source": [
    "# récupeartion des données à partir du json brut save_result à insérer dans les table sql\n",
    "\n",
    "# pour la table id_flight\n",
    "airlineid = save_result['FlightInformation']['Flights']['Flight']['OperatingCarrier']['AirlineID']\n",
    "\n",
    "flightnumber = save_result['FlightInformation']['Flights']['Flight']['OperatingCarrier']['FlightNumber']\n",
    "\n",
    "flight_number_concat = airlineid + flightnumber\n",
    "\n",
    "\n",
    "# pour la table info_departure\n",
    "\n",
    "time_dep_prev = save_result['FlightInformation']['Flights']['Flight']['Departure']['Scheduled']['Time']\n",
    "time_dep_real = save_result['FlightInformation']['Flights']['Flight']['Departure']['Actual']['Time']\n",
    "date_dep_prev = save_result['FlightInformation']['Flights']['Flight']['Departure']['Scheduled']['Date']\n",
    "date_dep_real = save_result['FlightInformation']['Flights']['Flight']['Departure']['Actual']['Date']\n",
    "on_time_or_delayed = save_result['FlightInformation']['Flights']['Flight']['Status']['Description']\n",
    "status = save_result['FlightInformation']['Flights']['Flight']['Departure']['Status']['Description']\n",
    "airport_code = save_result['FlightInformation']['Flights']['Flight']['Departure']['AirportCode']\n",
    "terminal_dep = save_result['FlightInformation']['Flights']['Flight']['Departure']['Terminal']['Gate']\n",
    "\n",
    "\n",
    "# pour la table info_arrival\n",
    "\n",
    "\n",
    "time_arr_prev = save_result['FlightInformation']['Flights']['Flight']['Arrival']['Scheduled']['Time']\n",
    "time_arr_real = save_result['FlightInformation']['Flights']['Flight']['Arrival']['Actual']['Time']\n",
    "date_arr_prev = save_result['FlightInformation']['Flights']['Flight']['Arrival']['Scheduled']['Date']\n",
    "date_arr_real = save_result['FlightInformation']['Flights']['Flight']['Arrival']['Actual']['Date']\n",
    "airport_code = save_result['FlightInformation']['Flights']['Flight']['Arrival']['AirportCode']\n",
    "terminal_arr = save_result['FlightInformation']['Flights']['Flight']['Arrival']['Terminal']['Gate']\n",
    "\n",
    "\n"
   ]
  },
  {
   "cell_type": "code",
   "execution_count": 138,
   "metadata": {},
   "outputs": [],
   "source": [
    "# récupeartion des données à partir du json brut save_result2 à insérer dans les table sql\n",
    "\n",
    "# pour la table id_flight\n",
    "airlineid2 = save_result2['FlightInformation']['Flights']['Flight']['OperatingCarrier']['AirlineID']\n",
    "\n",
    "flightnumber2 = save_result2['FlightInformation']['Flights']['Flight']['OperatingCarrier']['FlightNumber']\n",
    "\n",
    "flight_number_concat2 = airlineid2 + flightnumber2\n",
    "\n",
    "\n",
    "# pour la table info_departure\n",
    "\n",
    "time_dep_prev2 = save_result2['FlightInformation']['Flights']['Flight']['Departure']['Scheduled']['Time']\n",
    "time_dep_real2 = save_result2['FlightInformation']['Flights']['Flight']['Departure']['Actual']['Time']\n",
    "date_dep_prev2 = save_result2['FlightInformation']['Flights']['Flight']['Departure']['Scheduled']['Date']\n",
    "date_dep_real2 = save_result2['FlightInformation']['Flights']['Flight']['Departure']['Actual']['Date']\n",
    "on_time_or_delayed2 = save_result2['FlightInformation']['Flights']['Flight']['Status']['Description']\n",
    "status2 = save_result2['FlightInformation']['Flights']['Flight']['Departure']['Status']['Description']\n",
    "airport_code2 = save_result2['FlightInformation']['Flights']['Flight']['Departure']['AirportCode']\n",
    "terminal_dep2 = save_result2['FlightInformation']['Flights']['Flight']['Departure']['Terminal']['Gate']\n",
    "\n",
    "\n",
    "# pour la table info_arrival\n",
    "\n",
    "\n",
    "time_arr_prev2 = save_result2['FlightInformation']['Flights']['Flight']['Arrival']['Scheduled']['Time']\n",
    "time_arr_real2 = save_result2['FlightInformation']['Flights']['Flight']['Arrival']['Actual']['Time']\n",
    "date_arr_prev2 = save_result2['FlightInformation']['Flights']['Flight']['Arrival']['Scheduled']['Date']\n",
    "date_arr_real2 = save_result2['FlightInformation']['Flights']['Flight']['Arrival']['Actual']['Date']\n",
    "airport_code2 = save_result2['FlightInformation']['Flights']['Flight']['Arrival']['AirportCode']\n",
    "terminal_arr2 = save_result2['FlightInformation']['Flights']['Flight']['Arrival']['Terminal']['Gate']\n",
    "\n",
    "\n"
   ]
  },
  {
   "cell_type": "code",
   "execution_count": 177,
   "metadata": {},
   "outputs": [],
   "source": [
    "# init de la BDD sql\n",
    "\n",
    "\n",
    "from sqlalchemy import Table, Column, Boolean, Time, DateTime, Integer, String, ForeignKey, MetaData, create_engine, text, inspect\n",
    "\n",
    "engine = create_engine('sqlite:///real_time.db', echo=True)\n",
    "meta = MetaData()\n"
   ]
  },
  {
   "cell_type": "code",
   "execution_count": 178,
   "metadata": {},
   "outputs": [
    {
     "name": "stdout",
     "output_type": "stream",
     "text": [
      "2022-07-28 13:42:11,103 INFO sqlalchemy.engine.Engine BEGIN (implicit)\n",
      "2022-07-28 13:42:11,104 INFO sqlalchemy.engine.Engine PRAGMA main.table_info(\"date\")\n",
      "2022-07-28 13:42:11,104 INFO sqlalchemy.engine.Engine [raw sql] ()\n",
      "2022-07-28 13:42:11,105 INFO sqlalchemy.engine.Engine PRAGMA temp.table_info(\"date\")\n",
      "2022-07-28 13:42:11,106 INFO sqlalchemy.engine.Engine [raw sql] ()\n",
      "2022-07-28 13:42:11,106 INFO sqlalchemy.engine.Engine \n",
      "CREATE TABLE date (\n",
      "\tid_date INTEGER NOT NULL, \n",
      "\tdate VARCHAR, \n",
      "\tPRIMARY KEY (id_date)\n",
      ")\n",
      "\n",
      "\n",
      "2022-07-28 13:42:11,107 INFO sqlalchemy.engine.Engine [no key 0.00032s] ()\n",
      "2022-07-28 13:42:11,109 INFO sqlalchemy.engine.Engine COMMIT\n"
     ]
    }
   ],
   "source": [
    "# creation d'une table date\n",
    "\n",
    "date = Table(\n",
    "    'date', meta,\n",
    "    Column('id_date', Integer, primary_key=True),\n",
    "    Column('date', String)\n",
    "    \n",
    ")\n",
    "meta.create_all(engine)"
   ]
  },
  {
   "cell_type": "code",
   "execution_count": 179,
   "metadata": {},
   "outputs": [
    {
     "name": "stdout",
     "output_type": "stream",
     "text": [
      "2022-07-28 13:42:13,861 INFO sqlalchemy.engine.Engine BEGIN (implicit)\n",
      "2022-07-28 13:42:13,862 INFO sqlalchemy.engine.Engine PRAGMA main.table_info(\"date\")\n",
      "2022-07-28 13:42:13,862 INFO sqlalchemy.engine.Engine [raw sql] ()\n",
      "2022-07-28 13:42:13,862 INFO sqlalchemy.engine.Engine PRAGMA main.table_info(\"id_flight\")\n",
      "2022-07-28 13:42:13,863 INFO sqlalchemy.engine.Engine [raw sql] ()\n",
      "2022-07-28 13:42:13,863 INFO sqlalchemy.engine.Engine PRAGMA temp.table_info(\"id_flight\")\n",
      "2022-07-28 13:42:13,863 INFO sqlalchemy.engine.Engine [raw sql] ()\n",
      "2022-07-28 13:42:13,864 INFO sqlalchemy.engine.Engine \n",
      "CREATE TABLE id_flight (\n",
      "\tid_flight INTEGER NOT NULL, \n",
      "\tflight_number VARCHAR, \n",
      "\tdate INTEGER, \n",
      "\tPRIMARY KEY (id_flight), \n",
      "\tFOREIGN KEY(date) REFERENCES date (id_date)\n",
      ")\n",
      "\n",
      "\n",
      "2022-07-28 13:42:13,865 INFO sqlalchemy.engine.Engine [no key 0.00038s] ()\n",
      "2022-07-28 13:42:13,866 INFO sqlalchemy.engine.Engine COMMIT\n"
     ]
    }
   ],
   "source": [
    "# creation de la table id_flight \n",
    "\n",
    "\n",
    "id_flight = Table(\n",
    "    'id_flight', meta,\n",
    "    Column('id_flight', Integer, primary_key=True),\n",
    "    Column('flight_number', String),\n",
    "    Column('date', Integer, ForeignKey(\"date.id_date\"))\n",
    ")\n",
    "meta.create_all(engine)"
   ]
  },
  {
   "cell_type": "code",
   "execution_count": 180,
   "metadata": {},
   "outputs": [
    {
     "name": "stdout",
     "output_type": "stream",
     "text": [
      "2022-07-28 13:42:15,362 INFO sqlalchemy.engine.Engine BEGIN (implicit)\n",
      "2022-07-28 13:42:15,363 INFO sqlalchemy.engine.Engine PRAGMA main.table_info(\"date\")\n",
      "2022-07-28 13:42:15,363 INFO sqlalchemy.engine.Engine [raw sql] ()\n",
      "2022-07-28 13:42:15,364 INFO sqlalchemy.engine.Engine PRAGMA main.table_info(\"id_flight\")\n",
      "2022-07-28 13:42:15,364 INFO sqlalchemy.engine.Engine [raw sql] ()\n",
      "2022-07-28 13:42:15,365 INFO sqlalchemy.engine.Engine PRAGMA main.table_info(\"info_departure\")\n",
      "2022-07-28 13:42:15,365 INFO sqlalchemy.engine.Engine [raw sql] ()\n",
      "2022-07-28 13:42:15,365 INFO sqlalchemy.engine.Engine PRAGMA temp.table_info(\"info_departure\")\n",
      "2022-07-28 13:42:15,365 INFO sqlalchemy.engine.Engine [raw sql] ()\n",
      "2022-07-28 13:42:15,366 INFO sqlalchemy.engine.Engine \n",
      "CREATE TABLE info_departure (\n",
      "\tid_info_departure INTEGER NOT NULL, \n",
      "\ttime_dep_prev VARCHAR, \n",
      "\ttime_dep_real VARCHAR, \n",
      "\tdate_dep_prev VARCHAR, \n",
      "\tdate_dep_real VARCHAR, \n",
      "\ton_time_or_delayed VARCHAR, \n",
      "\tstatus VARCHAR, \n",
      "\tairport_code VARCHAR, \n",
      "\tterminal_dep VARCHAR, \n",
      "\tflight_number INTEGER, \n",
      "\tdate INTEGER, \n",
      "\tPRIMARY KEY (id_info_departure), \n",
      "\tFOREIGN KEY(flight_number) REFERENCES id_flight (id_flight), \n",
      "\tFOREIGN KEY(date) REFERENCES date (id_date)\n",
      ")\n",
      "\n",
      "\n",
      "2022-07-28 13:42:15,366 INFO sqlalchemy.engine.Engine [no key 0.00026s] ()\n",
      "2022-07-28 13:42:15,368 INFO sqlalchemy.engine.Engine COMMIT\n"
     ]
    }
   ],
   "source": [
    "# création de la table info_departure\n",
    "\n",
    "\n",
    "info_departure = Table(\n",
    "    'info_departure', meta,\n",
    "    Column('id_info_departure', Integer, primary_key=True),\n",
    "    Column('time_dep_prev', String),\n",
    "    Column('time_dep_real', String),\n",
    "    Column('date_dep_prev', String),\n",
    "    Column('date_dep_real', String),\n",
    "    Column('on_time_or_delayed', String),\n",
    "    Column('status', String),\n",
    "    Column('airport_code', String),\n",
    "    Column('terminal_dep', String),\n",
    "    Column('flight_number', Integer, ForeignKey(\"id_flight.id_flight\")),\n",
    "    Column('date', Integer, ForeignKey(\"date.id_date\"))\n",
    "\n",
    "\n",
    ")\n",
    "meta.create_all(engine)"
   ]
  },
  {
   "cell_type": "code",
   "execution_count": 181,
   "metadata": {},
   "outputs": [
    {
     "name": "stdout",
     "output_type": "stream",
     "text": [
      "2022-07-28 13:42:17,281 INFO sqlalchemy.engine.Engine BEGIN (implicit)\n",
      "2022-07-28 13:42:17,282 INFO sqlalchemy.engine.Engine PRAGMA main.table_info(\"date\")\n",
      "2022-07-28 13:42:17,282 INFO sqlalchemy.engine.Engine [raw sql] ()\n",
      "2022-07-28 13:42:17,283 INFO sqlalchemy.engine.Engine PRAGMA main.table_info(\"id_flight\")\n",
      "2022-07-28 13:42:17,283 INFO sqlalchemy.engine.Engine [raw sql] ()\n",
      "2022-07-28 13:42:17,284 INFO sqlalchemy.engine.Engine PRAGMA main.table_info(\"info_departure\")\n",
      "2022-07-28 13:42:17,284 INFO sqlalchemy.engine.Engine [raw sql] ()\n",
      "2022-07-28 13:42:17,285 INFO sqlalchemy.engine.Engine PRAGMA main.table_info(\"info_arrival\")\n",
      "2022-07-28 13:42:17,286 INFO sqlalchemy.engine.Engine [raw sql] ()\n",
      "2022-07-28 13:42:17,286 INFO sqlalchemy.engine.Engine PRAGMA temp.table_info(\"info_arrival\")\n",
      "2022-07-28 13:42:17,286 INFO sqlalchemy.engine.Engine [raw sql] ()\n",
      "2022-07-28 13:42:17,287 INFO sqlalchemy.engine.Engine \n",
      "CREATE TABLE info_arrival (\n",
      "\tid_info_departure INTEGER NOT NULL, \n",
      "\ttime_arr_prev VARCHAR, \n",
      "\ttime_arr_real VARCHAR, \n",
      "\tdate_arr_prev VARCHAR, \n",
      "\tdate_arr_real VARCHAR, \n",
      "\tairport_code VARCHAR, \n",
      "\tterminal_arr VARCHAR, \n",
      "\tflight_number INTEGER, \n",
      "\tdate INTEGER, \n",
      "\tPRIMARY KEY (id_info_departure), \n",
      "\tFOREIGN KEY(flight_number) REFERENCES id_flight (id_flight), \n",
      "\tFOREIGN KEY(date) REFERENCES date (id_date)\n",
      ")\n",
      "\n",
      "\n",
      "2022-07-28 13:42:17,288 INFO sqlalchemy.engine.Engine [no key 0.00033s] ()\n",
      "2022-07-28 13:42:17,289 INFO sqlalchemy.engine.Engine COMMIT\n"
     ]
    }
   ],
   "source": [
    "# création de la table info_arrival\n",
    "\n",
    "\n",
    "info_arrival = Table(\n",
    "    'info_arrival', meta,\n",
    "    Column('id_info_departure', Integer, primary_key=True),\n",
    "    Column('time_arr_prev', String),\n",
    "    Column('time_arr_real', String),\n",
    "    Column('date_arr_prev', String),\n",
    "    Column('date_arr_real', String),\n",
    "    Column('airport_code', String),\n",
    "    Column('terminal_arr', String),\n",
    "    Column('flight_number', Integer, ForeignKey(\"id_flight.id_flight\")),\n",
    "    Column('date', Integer, ForeignKey(\"date.id_date\"))\n",
    "\n",
    ")\n",
    "meta.create_all(engine)"
   ]
  },
  {
   "cell_type": "code",
   "execution_count": 182,
   "metadata": {},
   "outputs": [
    {
     "name": "stdout",
     "output_type": "stream",
     "text": [
      "2022-07-28 13:42:20,409 INFO sqlalchemy.engine.Engine BEGIN (implicit)\n",
      "2022-07-28 13:42:20,410 INFO sqlalchemy.engine.Engine INSERT OR REPLACE INTO id_flight VALUES (?,?,?)\n",
      "2022-07-28 13:42:20,410 INFO sqlalchemy.engine.Engine [raw sql] [(1, 'LH2057', 1), (2, 'LH2057', 2)]\n",
      "2022-07-28 13:42:20,411 INFO sqlalchemy.engine.Engine COMMIT\n"
     ]
    }
   ],
   "source": [
    "# insertion des données à partir du json dans la table id_flight\n",
    "\n",
    "values_id_flight = [(1, flight_number_concat, 1),(2, flight_number_concat2, 2)]\n",
    "\n",
    "with engine.connect() as connection:\n",
    "    # début de la transaction\n",
    "    with connection.begin() as transaction:\n",
    "        # on tente d'éxécuter une transaction\n",
    "        try:\n",
    "            # On indique le format d'un tuple de cette table\n",
    "            markers = ','.join('?' * len(values_id_flight[0])) \n",
    "            \n",
    "            # On utilise le langage SQL en format texte où markers est le format d'un tuple\n",
    "            ins = 'INSERT OR REPLACE INTO {tablename} VALUES ({markers})'\n",
    "            \n",
    "            # On précise ce format particulier grâce à la fonction membre format\n",
    "            ins = ins.format(tablename=id_flight.name, markers=markers)\n",
    "           \n",
    "            # Enfin on peut utiliser les tuples créés en éxécutant la commande SQL\n",
    "            connection.execute(ins, values_id_flight)\n",
    "        # si la transaction échoue\n",
    "        except:\n",
    "            transaction.rollback()\n",
    "            raise\n",
    "        # si la transaction réussit\n",
    "        else:\n",
    "            transaction.commit()"
   ]
  },
  {
   "cell_type": "code",
   "execution_count": 183,
   "metadata": {},
   "outputs": [
    {
     "name": "stdout",
     "output_type": "stream",
     "text": [
      "2022-07-28 13:42:22,333 INFO sqlalchemy.engine.Engine SELECT * FROM id_flight;\n",
      "2022-07-28 13:42:22,333 INFO sqlalchemy.engine.Engine [raw sql] ()\n",
      "[(1, 'LH2057', 1), (2, 'LH2057', 2)]\n"
     ]
    }
   ],
   "source": [
    "# essai requête sql à partir des données que l'on a insérées dans la table id_flight\n",
    "\n",
    "with engine.connect() as connection:\n",
    "    results = connection.execute(\"SELECT * FROM id_flight;\")\n",
    "    print(results.fetchall())"
   ]
  },
  {
   "cell_type": "code",
   "execution_count": 184,
   "metadata": {},
   "outputs": [
    {
     "name": "stdout",
     "output_type": "stream",
     "text": [
      "2022-07-28 13:42:23,335 INFO sqlalchemy.engine.Engine BEGIN (implicit)\n",
      "2022-07-28 13:42:23,336 INFO sqlalchemy.engine.Engine INSERT OR REPLACE INTO info_departure VALUES (?,?,?,?,?,?,?,?,?,?,?)\n",
      "2022-07-28 13:42:23,337 INFO sqlalchemy.engine.Engine [raw sql] [(1, '12:15', '12:35', '2022-07-28', '2022-07-28', 'Flight Delayed', 'Flight Departed', 'MUC', 'A17', 1, 1), (2, '12:15', '13:04', '2022-07-26', '2022-07-26', 'Flight Landed', 'Flight Departed', 'MUC', 'C16', 1, 2)]\n",
      "2022-07-28 13:42:23,337 INFO sqlalchemy.engine.Engine COMMIT\n"
     ]
    }
   ],
   "source": [
    "# insertion des données à partir du json dans la table info_departure\n",
    "\n",
    "values_info_departure = [(1, time_dep_prev, time_dep_real, date_dep_prev, date_dep_real, on_time_or_delayed, status, airport_code, terminal_dep, 1, 1), \n",
    "(2, time_dep_prev2, time_dep_real2, date_dep_prev2, date_dep_real2, on_time_or_delayed2, status2, airport_code2, terminal_dep2, 1, 2)]\n",
    "\n",
    "with engine.connect() as connection:\n",
    "    # début de la transaction\n",
    "    with connection.begin() as transaction:\n",
    "        # on tente d'éxécuter une transaction\n",
    "        try:\n",
    "            # On indique le format d'un tuple de cette table\n",
    "            markers = ','.join('?' * len(values_info_departure[0])) \n",
    "            \n",
    "            # On utilise le langage SQL en format texte où markers est le format d'un tuple\n",
    "            ins = 'INSERT OR REPLACE INTO {tablename} VALUES ({markers})'\n",
    "            \n",
    "            # On précise ce format particulier grâce à la fonction membre format\n",
    "            ins = ins.format(tablename=info_departure.name, markers=markers)\n",
    "           \n",
    "            # Enfin on peut utiliser les tuples créés en éxécutant la commande SQL\n",
    "            connection.execute(ins, values_info_departure)\n",
    "        # si la transaction échoue\n",
    "        except:\n",
    "            transaction.rollback()\n",
    "            raise\n",
    "        # si la transaction réussit\n",
    "        else:\n",
    "            transaction.commit()"
   ]
  },
  {
   "cell_type": "code",
   "execution_count": 185,
   "metadata": {},
   "outputs": [
    {
     "name": "stdout",
     "output_type": "stream",
     "text": [
      "2022-07-28 13:42:24,779 INFO sqlalchemy.engine.Engine SELECT * FROM info_departure;\n",
      "2022-07-28 13:42:24,780 INFO sqlalchemy.engine.Engine [raw sql] ()\n",
      "[(1, '12:15', '12:35', '2022-07-28', '2022-07-28', 'Flight Delayed', 'Flight Departed', 'MUC', 'A17', 1, 1), (2, '12:15', '13:04', '2022-07-26', '2022-07-26', 'Flight Landed', 'Flight Departed', 'MUC', 'C16', 1, 2)]\n"
     ]
    }
   ],
   "source": [
    "# essai requete sur table info_departure\n",
    "\n",
    "with engine.connect() as connection:\n",
    "    results = connection.execute(\"SELECT * FROM info_departure;\")\n",
    "    print(results.fetchall())"
   ]
  },
  {
   "cell_type": "code",
   "execution_count": 248,
   "metadata": {},
   "outputs": [
    {
     "name": "stdout",
     "output_type": "stream",
     "text": [
      "2022-07-28 15:57:16,501 INFO sqlalchemy.engine.Engine BEGIN (implicit)\n",
      "2022-07-28 15:57:16,502 INFO sqlalchemy.engine.Engine INSERT OR REPLACE INTO info_arrival VALUES (?,?,?,?,?,?,?,?,?)\n",
      "2022-07-28 15:57:16,502 INFO sqlalchemy.engine.Engine [raw sql] [(1, '13:30', '13:51', '2022-07-28', '2022-07-28', 'MUC', 'G04', 1, 1), (2, '13:30', '14:10', '2022-07-26', '2022-07-26', 'MUC', 'K05', 1, 2)]\n",
      "2022-07-28 15:57:16,503 INFO sqlalchemy.engine.Engine COMMIT\n"
     ]
    }
   ],
   "source": [
    "# insertion des données à partir du json dans la table info_arrival\n",
    "\n",
    "\n",
    "\n",
    "values_info_arrival = [(1, time_arr_prev, time_arr_real, date_arr_prev, date_arr_real, airport_code, terminal_arr, 1, 1), \n",
    "(2, time_arr_prev2, time_arr_real2, date_arr_prev2, date_arr_real2, airport_code2, terminal_arr2, 1, 2)]\n",
    "\n",
    "with engine.connect() as connection:\n",
    "    # début de la transaction\n",
    "    with connection.begin() as transaction:\n",
    "        # on tente d'éxécuter une transaction\n",
    "        try:\n",
    "            # On indique le format d'un tuple de cette table\n",
    "            markers = ','.join('?' * len(values_info_arrival[0])) \n",
    "            \n",
    "            # On utilise le langage SQL en format texte où markers est le format d'un tuple\n",
    "            ins = 'INSERT OR REPLACE INTO {tablename} VALUES ({markers})'\n",
    "            \n",
    "            # On précise ce format particulier grâce à la fonction membre format\n",
    "            ins = ins.format(tablename=info_arrival.name, markers=markers)\n",
    "           \n",
    "            # Enfin on peut utiliser les tuples créés en éxécutant la commande SQL\n",
    "            connection.execute(ins, values_info_arrival)\n",
    "        # si la transaction échoue\n",
    "        except:\n",
    "            transaction.rollback()\n",
    "            raise\n",
    "        # si la transaction réussit\n",
    "        else:\n",
    "            transaction.commit()"
   ]
  },
  {
   "cell_type": "code",
   "execution_count": 187,
   "metadata": {},
   "outputs": [
    {
     "name": "stdout",
     "output_type": "stream",
     "text": [
      "2022-07-28 13:42:27,757 INFO sqlalchemy.engine.Engine SELECT * FROM info_arrival;\n",
      "2022-07-28 13:42:27,758 INFO sqlalchemy.engine.Engine [raw sql] ()\n",
      "[(1, '13:30', '13:51', '2022-07-28', '2022-07-28', 'MUC', 'G04', 1, 1), (2, '13:30', '14:10', '2022-07-26', '2022-07-26', 'MUC', 'K05', 1, 2)]\n"
     ]
    }
   ],
   "source": [
    "# essai requete sur table info_arrival\n",
    "\n",
    "with engine.connect() as connection:\n",
    "    results = connection.execute(\"SELECT * FROM info_arrival;\")\n",
    "    print(results.fetchall())"
   ]
  },
  {
   "cell_type": "code",
   "execution_count": 188,
   "metadata": {},
   "outputs": [
    {
     "name": "stdout",
     "output_type": "stream",
     "text": [
      "2022-07-28 13:42:29,101 INFO sqlalchemy.engine.Engine BEGIN (implicit)\n",
      "2022-07-28 13:42:29,102 INFO sqlalchemy.engine.Engine INSERT OR REPLACE INTO date VALUES (?,?)\n",
      "2022-07-28 13:42:29,102 INFO sqlalchemy.engine.Engine [raw sql] [(1, '2022-07-28'), (2, '2022-07-26')]\n",
      "2022-07-28 13:42:29,103 INFO sqlalchemy.engine.Engine COMMIT\n"
     ]
    }
   ],
   "source": [
    "# insertion donnees dans la table date\n",
    "\n",
    "\n",
    "values_date = [(1, '2022-07-28'),(2, '2022-07-26')]\n",
    "\n",
    "with engine.connect() as connection:\n",
    "    # début de la transaction\n",
    "    with connection.begin() as transaction:\n",
    "        # on tente d'éxécuter une transaction\n",
    "        try:\n",
    "            # On indique le format d'un tuple de cette table\n",
    "            markers = ','.join('?' * len(values_date[0])) \n",
    "            \n",
    "            # On utilise le langage SQL en format texte où markers est le format d'un tuple\n",
    "            ins = 'INSERT OR REPLACE INTO {tablename} VALUES ({markers})'\n",
    "            \n",
    "            # On précise ce format particulier grâce à la fonction membre format\n",
    "            ins = ins.format(tablename=date.name, markers=markers)\n",
    "           \n",
    "            # Enfin on peut utiliser les tuples créés en éxécutant la commande SQL\n",
    "            connection.execute(ins, values_date)\n",
    "        # si la transaction échoue\n",
    "        except:\n",
    "            transaction.rollback()\n",
    "            raise\n",
    "        # si la transaction réussit\n",
    "        else:\n",
    "            transaction.commit()"
   ]
  },
  {
   "cell_type": "code",
   "execution_count": 189,
   "metadata": {},
   "outputs": [
    {
     "name": "stdout",
     "output_type": "stream",
     "text": [
      "2022-07-28 13:42:30,830 INFO sqlalchemy.engine.Engine SELECT * FROM date;\n",
      "2022-07-28 13:42:30,830 INFO sqlalchemy.engine.Engine [raw sql] ()\n",
      "[(1, '2022-07-28'), (2, '2022-07-26')]\n"
     ]
    }
   ],
   "source": [
    "# essai requete sur table date\n",
    "\n",
    "with engine.connect() as connection:\n",
    "    results = connection.execute(\"SELECT * FROM date;\")\n",
    "    print(results.fetchall())"
   ]
  },
  {
   "cell_type": "code",
   "execution_count": 247,
   "metadata": {},
   "outputs": [
    {
     "name": "stdout",
     "output_type": "stream",
     "text": [
      "2022-07-28 15:57:00,293 INFO sqlalchemy.engine.Engine SELECT * FROM (SELECT * FROM id_flight WHERE flight_number = 'LH2057') AS A LEFT JOIN (SELECT * FROM info_departure WHERE info_departure.date_dep_prev = '2022-07-28') AS B ON A.id_flight = B.flight_number WHERE B.flight_number IS NOT NULL;\n",
      "2022-07-28 15:57:00,294 INFO sqlalchemy.engine.Engine [raw sql] ()\n",
      "[(1, 'LH2057', 1, 1, '12:15', '12:35', '2022-07-28', '2022-07-28', 'Flight Delayed', 'Flight Departed', 'MUC', 'A17', 1, 1)]\n"
     ]
    }
   ],
   "source": [
    "# essai requete sql entre les différentes tables pour récupérer les info concernant l'aéroport de départ en focntion du numéro de vol  \n",
    "# et de la date (attention, un numéro de vol pour avoir plusieurs aéroport de déapart en fonction de la date, il faut donc filter) \n",
    "\n",
    "with engine.connect() as connection:\n",
    "    results = connection.execute(\"SELECT * FROM (SELECT * FROM id_flight WHERE flight_number = 'LH2057') \"\n",
    "    \"AS A LEFT JOIN (SELECT * FROM info_departure WHERE info_departure.date_dep_prev = '2022-07-28') \"\n",
    "    \"AS B ON A.id_flight = B.flight_number WHERE B.flight_number IS NOT NULL;\")\n",
    "    print(results.fetchall())"
   ]
  },
  {
   "cell_type": "code",
   "execution_count": 246,
   "metadata": {},
   "outputs": [
    {
     "name": "stdout",
     "output_type": "stream",
     "text": [
      "2022-07-28 15:56:38,725 INFO sqlalchemy.engine.Engine SELECT * FROM (SELECT * FROM id_flight WHERE flight_number = 'LH2057') AS A LEFT JOIN (SELECT * FROM info_arrival WHERE info_arrival.date_arr_prev = '2022-07-28')AS B ON A.id_flight = B.flight_number WHERE B.flight_number IS NOT NULL;\n",
      "2022-07-28 15:56:38,725 INFO sqlalchemy.engine.Engine [raw sql] ()\n",
      "[(1, 'LH2057', 1, 1, '13:30', '13:51', '2022-07-28', '2022-07-28', 'MUC', 'G04', 1, 1)]\n"
     ]
    }
   ],
   "source": [
    "# essai requete sql entre les différentes tables pour récupérer les info concernant l'aéroport de départ en focntion du numéro de vol \n",
    "# et de la date (attention, un numéro de vol pour avoir plusieurs aéroport d'arrivée en fonction de la date, il faut donc filter) \n",
    "\n",
    "with engine.connect() as connection:\n",
    "    results = connection.execute(\"SELECT * FROM (SELECT * FROM id_flight WHERE flight_number = 'LH2057') \"\n",
    "    \"AS A LEFT JOIN (SELECT * FROM info_arrival WHERE info_arrival.date_arr_prev = '2022-07-28')\" \n",
    "    \"AS B ON A.id_flight = B.flight_number WHERE B.flight_number IS NOT NULL;\")\n",
    "    print(results.fetchall())"
   ]
  },
  {
   "cell_type": "code",
   "execution_count": 245,
   "metadata": {},
   "outputs": [
    {
     "data": {
      "text/html": [
       "<div>\n",
       "<style scoped>\n",
       "    .dataframe tbody tr th:only-of-type {\n",
       "        vertical-align: middle;\n",
       "    }\n",
       "\n",
       "    .dataframe tbody tr th {\n",
       "        vertical-align: top;\n",
       "    }\n",
       "\n",
       "    .dataframe thead th {\n",
       "        text-align: right;\n",
       "    }\n",
       "</style>\n",
       "<table border=\"1\" class=\"dataframe\">\n",
       "  <thead>\n",
       "    <tr style=\"text-align: right;\">\n",
       "      <th></th>\n",
       "      <th>id_flight</th>\n",
       "      <th>flight_number</th>\n",
       "      <th>date</th>\n",
       "    </tr>\n",
       "  </thead>\n",
       "  <tbody>\n",
       "    <tr>\n",
       "      <th>0</th>\n",
       "      <td>1</td>\n",
       "      <td>LH2057</td>\n",
       "      <td>1</td>\n",
       "    </tr>\n",
       "    <tr>\n",
       "      <th>1</th>\n",
       "      <td>2</td>\n",
       "      <td>LH2057</td>\n",
       "      <td>2</td>\n",
       "    </tr>\n",
       "  </tbody>\n",
       "</table>\n",
       "</div>"
      ],
      "text/plain": [
       "   id_flight flight_number  date\n",
       "0          1        LH2057     1\n",
       "1          2        LH2057     2"
      ]
     },
     "execution_count": 245,
     "metadata": {},
     "output_type": "execute_result"
    }
   ],
   "source": [
    "# essai sql to dataframe avec la table id_flight uniquement \n",
    "\n",
    "import pandas as pd\n",
    "import sqlite3\n",
    "\n",
    "conn = sqlite3.connect('real_time.db') \n",
    "          \n",
    "sql_query = pd.read_sql_query ('''\n",
    "                               SELECT\n",
    "                               *\n",
    "                               FROM id_flight\n",
    "                               ''', conn)\n",
    "\n",
    "df = pd.DataFrame(sql_query)\n",
    "df.head()\n"
   ]
  },
  {
   "cell_type": "code",
   "execution_count": 244,
   "metadata": {},
   "outputs": [
    {
     "data": {
      "text/html": [
       "<div>\n",
       "<style scoped>\n",
       "    .dataframe tbody tr th:only-of-type {\n",
       "        vertical-align: middle;\n",
       "    }\n",
       "\n",
       "    .dataframe tbody tr th {\n",
       "        vertical-align: top;\n",
       "    }\n",
       "\n",
       "    .dataframe thead th {\n",
       "        text-align: right;\n",
       "    }\n",
       "</style>\n",
       "<table border=\"1\" class=\"dataframe\">\n",
       "  <thead>\n",
       "    <tr style=\"text-align: right;\">\n",
       "      <th></th>\n",
       "      <th>id_flight</th>\n",
       "      <th>flight_number</th>\n",
       "      <th>date</th>\n",
       "      <th>id_info_departure</th>\n",
       "      <th>time_arr_prev</th>\n",
       "      <th>time_arr_real</th>\n",
       "      <th>date_arr_prev</th>\n",
       "      <th>date_arr_real</th>\n",
       "      <th>airport_code</th>\n",
       "      <th>terminal_arr</th>\n",
       "      <th>flight_number</th>\n",
       "      <th>date</th>\n",
       "    </tr>\n",
       "  </thead>\n",
       "  <tbody>\n",
       "    <tr>\n",
       "      <th>0</th>\n",
       "      <td>1</td>\n",
       "      <td>LH2057</td>\n",
       "      <td>1</td>\n",
       "      <td>1</td>\n",
       "      <td>13:30</td>\n",
       "      <td>13:51</td>\n",
       "      <td>2022-07-28</td>\n",
       "      <td>2022-07-28</td>\n",
       "      <td>MUC</td>\n",
       "      <td>G04</td>\n",
       "      <td>1</td>\n",
       "      <td>1</td>\n",
       "    </tr>\n",
       "  </tbody>\n",
       "</table>\n",
       "</div>"
      ],
      "text/plain": [
       "   id_flight  flight_number  date  id_info_departure time_arr_prev  \\\n",
       "0          1         LH2057     1                  1         13:30   \n",
       "\n",
       "  time_arr_real date_arr_prev date_arr_real airport_code terminal_arr  \\\n",
       "0         13:51    2022-07-28    2022-07-28          MUC          G04   \n",
       "\n",
       "   flight_number  date  \n",
       "0              1     1  "
      ]
     },
     "execution_count": 244,
     "metadata": {},
     "output_type": "execute_result"
    }
   ],
   "source": [
    "# essai requete sql entre les différentes tables pour récupérer les info concernant l'aéroport de départ en focntion du numéro de vol \n",
    "# et de la date (attention, un numéro de vol pour avoir plusieurs aéroport d'arrivée en fonction de la date, il faut donc filter) \n",
    "\n",
    "# essai de cette requete sql to dataframe\n",
    "\n",
    "conn = sqlite3.connect('real_time.db') \n",
    "          \n",
    "sql_query = pd.read_sql_query ('''\n",
    "                               SELECT * FROM (SELECT * FROM id_flight WHERE flight_number = 'LH2057') \n",
    "                               AS A LEFT JOIN (SELECT * FROM info_arrival WHERE info_arrival.date_arr_prev = '2022-07-28') \n",
    "                               AS B ON A.id_flight = B.flight_number WHERE B.flight_number IS NOT NULL\n",
    "                               ''', conn)\n",
    "\n",
    "df = pd.DataFrame(sql_query)\n",
    "df.head()\n",
    "\n",
    "\n",
    "\n"
   ]
  }
 ],
 "metadata": {
  "kernelspec": {
   "display_name": "Python 3.10.5 64-bit",
   "language": "python",
   "name": "python3"
  },
  "language_info": {
   "codemirror_mode": {
    "name": "ipython",
    "version": 3
   },
   "file_extension": ".py",
   "mimetype": "text/x-python",
   "name": "python",
   "nbconvert_exporter": "python",
   "pygments_lexer": "ipython3",
   "version": "3.10.5"
  },
  "orig_nbformat": 4,
  "vscode": {
   "interpreter": {
    "hash": "e7370f93d1d0cde622a1f8e1c04877d8463912d04d973331ad4851f04de6915a"
   }
  }
 },
 "nbformat": 4,
 "nbformat_minor": 2
}

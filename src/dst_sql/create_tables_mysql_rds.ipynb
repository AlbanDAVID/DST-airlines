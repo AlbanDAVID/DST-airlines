{
 "cells": [
  {
   "cell_type": "code",
   "execution_count": 35,
   "metadata": {},
   "outputs": [],
   "source": [
    "import pandas as pd\n",
    "import numpy as np\n",
    "import pymysql\n",
    "import sys\n",
    "import static\n",
    "\n"
   ]
  },
  {
   "cell_type": "code",
   "execution_count": 36,
   "metadata": {},
   "outputs": [],
   "source": [
    "from pymysql import OperationalError\n",
    "\n",
    "\n",
    "try:\n",
    "    cnx = pymysql.connect(host = static.host, user = static.user, password = static.password)\n",
    "    connection = 0\n",
    "except OperationalError:\n",
    "    connection = 1"
   ]
  },
  {
   "cell_type": "code",
   "execution_count": 37,
   "metadata": {},
   "outputs": [
    {
     "data": {
      "text/plain": [
       "0"
      ]
     },
     "execution_count": 37,
     "metadata": {},
     "output_type": "execute_result"
    }
   ],
   "source": [
    "connection"
   ]
  },
  {
   "cell_type": "code",
   "execution_count": null,
   "metadata": {},
   "outputs": [],
   "source": [
    "#### Establish Connetion ####\n",
    "\n",
    "cnx = pymysql.connect(host = static.host, user = static.user, password = static.password)\n",
    "\n",
    "cursor = cnx.cursor()"
   ]
  },
  {
   "cell_type": "code",
   "execution_count": 14,
   "metadata": {},
   "outputs": [
    {
     "data": {
      "text/plain": [
       "<pymysql.cursors.Cursor at 0x7f15e82d3dc0>"
      ]
     },
     "execution_count": 14,
     "metadata": {},
     "output_type": "execute_result"
    }
   ],
   "source": [
    "cursor"
   ]
  },
  {
   "cell_type": "code",
   "execution_count": 42,
   "metadata": {},
   "outputs": [
    {
     "data": {
      "text/plain": [
       "0"
      ]
     },
     "execution_count": 42,
     "metadata": {},
     "output_type": "execute_result"
    }
   ],
   "source": [
    "#### Create and use database ####\n",
    "\n",
    "#create_db = \"\"\" create database <name database> \"\"\"\n",
    "#cursor.execute(create_db)\n",
    "\n",
    "use_db = \"\"\" use <name database>\"\"\"\n",
    "cursor.execute(use_db)"
   ]
  },
  {
   "cell_type": "code",
   "execution_count": 18,
   "metadata": {},
   "outputs": [
    {
     "data": {
      "text/plain": [
       "0"
      ]
     },
     "execution_count": 18,
     "metadata": {},
     "output_type": "execute_result"
    }
   ],
   "source": [
    "#### Create table AIRCRAFT ####\n",
    "\n",
    "create_AIRCRAFT = \"\"\"\n",
    "\n",
    "CREATE TABLE AIRCRAFT (\n",
    "hex VARCHAR(30) NOT NULL,\n",
    "airline_icao VARCHAR(30),\n",
    "airline_iata VARCHAR(30),\n",
    "icao VARCHAR(30),\n",
    "iata VARCHAR(30),\n",
    "manufacturer VARCHAR(30),\n",
    "PRIMARY KEY (hex)\n",
    ");\n",
    "\n",
    "\"\"\"\n",
    "\n",
    "cursor.execute(create_AIRCRAFT)"
   ]
  },
  {
   "cell_type": "code",
   "execution_count": 19,
   "metadata": {},
   "outputs": [
    {
     "data": {
      "text/plain": [
       "0"
      ]
     },
     "execution_count": 19,
     "metadata": {},
     "output_type": "execute_result"
    }
   ],
   "source": [
    "#### Create table COUNTRIES ####\n",
    "\n",
    "create_COUNTRIES = \"\"\"\n",
    "\n",
    "CREATE TABLE COUNTRIES (\n",
    "code VARCHAR(30) NOT NULL,\n",
    "code3 VARCHAR(30) NOT NULL,\n",
    "name VARCHAR(100),\n",
    "PRIMARY KEY (code, code3)\n",
    ");\n",
    "\n",
    "\"\"\"\n",
    "\n",
    "cursor.execute(create_COUNTRIES)"
   ]
  },
  {
   "cell_type": "code",
   "execution_count": 20,
   "metadata": {},
   "outputs": [
    {
     "data": {
      "text/plain": [
       "0"
      ]
     },
     "execution_count": 20,
     "metadata": {},
     "output_type": "execute_result"
    }
   ],
   "source": [
    "#### Create table AIRPORTS ####\n",
    "\n",
    "create_AIRPORTS = \"\"\"\n",
    "\n",
    "CREATE TABLE AIRPORTS (\n",
    "iata_code VARCHAR(30) NOT NULL,\n",
    "icao_code VARCHAR(30),\n",
    "name VARCHAR(100),\n",
    "country_code VARCHAR(30),\n",
    "lat FLOAT,\n",
    "lng FLOAT,\n",
    "PRIMARY KEY (iata_code)\n",
    ");\n",
    "\n",
    "\n",
    "\"\"\"\n",
    "\n",
    "cursor.execute(create_AIRPORTS)"
   ]
  },
  {
   "cell_type": "code",
   "execution_count": 21,
   "metadata": {},
   "outputs": [
    {
     "data": {
      "text/plain": [
       "0"
      ]
     },
     "execution_count": 21,
     "metadata": {},
     "output_type": "execute_result"
    }
   ],
   "source": [
    "#### Create table CITIES ####\n",
    "\n",
    "create_CITIES = \"\"\"\n",
    "\n",
    "CREATE TABLE CITIES (\n",
    "city_code VARCHAR(30) NOT NULL,\n",
    "country_code VARCHAR(30),\n",
    "name VARCHAR(100),\n",
    "lat FLOAT,\n",
    "lng FLOAT,\n",
    "PRIMARY KEY (city_code),\n",
    "FOREIGN KEY (country_code)\n",
    "REFERENCES COUNTRIES(code)\n",
    ");\n",
    "\n",
    "\n",
    "\"\"\"\n",
    "\n",
    "cursor.execute(create_CITIES)"
   ]
  },
  {
   "cell_type": "code",
   "execution_count": 22,
   "metadata": {},
   "outputs": [
    {
     "data": {
      "text/plain": [
       "0"
      ]
     },
     "execution_count": 22,
     "metadata": {},
     "output_type": "execute_result"
    }
   ],
   "source": [
    "#### Create table FLIGHTS_METRICS ####\n",
    "\n",
    "create_FLIGHTS_METRICS = \"\"\"\n",
    "\n",
    "CREATE TABLE FLIGHTS_METRICS (\n",
    "id INT NOT NULL AUTO_INCREMENT,\n",
    "hex VARCHAR(30) NOT NULL,\n",
    "flight_icao VARCHAR(30),\n",
    "flight_iata VARCHAR(30),\n",
    "lat FLOAT,\n",
    "lng FLOAT,\n",
    "alt FLOAT,\n",
    "dir FLOAT,\n",
    "speed FLOAT,\n",
    "v_speed FLOAT,\n",
    "date_retrieve DATE,\n",
    "time_retrieve TIME,\n",
    "PRIMARY KEY (id),\n",
    "FOREIGN KEY (hex)\n",
    "REFERENCES AIRCRAFT(hex)\n",
    ");\n",
    "\n",
    "\n",
    "\"\"\"\n",
    "\n",
    "cursor.execute(create_FLIGHTS_METRICS)"
   ]
  },
  {
   "cell_type": "code",
   "execution_count": 23,
   "metadata": {},
   "outputs": [
    {
     "data": {
      "text/plain": [
       "0"
      ]
     },
     "execution_count": 23,
     "metadata": {},
     "output_type": "execute_result"
    }
   ],
   "source": [
    "#### Create table FLIGHTS_SUMMARY ####\n",
    "\n",
    "create_FLIGHTS_SUMMARY = \"\"\"\n",
    "\n",
    "CREATE TABLE FLIGHTS_SUMMARY (\n",
    "id INT NOT NULL AUTO_INCREMENT,\n",
    "hex VARCHAR(30) NOT NULL,\n",
    "flight_icao VARCHAR(30),\n",
    "flight_iata VARCHAR(30),\n",
    "status_lufthansa VARCHAR(30),\n",
    "flag VARCHAR(30),\n",
    "dep_iata VARCHAR(30),\n",
    "arr_iata VARCHAR(30),\n",
    "schedule_date_deps DATE,\n",
    "schedule_date_arrs DATE,\n",
    "schedule_time_deps TIME,\n",
    "schedule_time_arrs TIME,\n",
    "actual_date_deps DATE,\n",
    "actual_date_arrs DATE,\n",
    "actual_time_deps TIME,\n",
    "actual_time_arrs TIME,\n",
    "date_retrieve DATE,\n",
    "time_retrieve TIME,\n",
    "terminal_names_dep VARCHAR(30),\n",
    "terminal_names_arr VARCHAR(30),\n",
    "gates_dep VARCHAR(30),\n",
    "gates_arr VARCHAR(30),\n",
    "PRIMARY KEY (id),\n",
    "FOREIGN KEY (hex)\n",
    "REFERENCES AIRCRAFT(hex),\n",
    "FOREIGN KEY (flag)\n",
    "REFERENCES COUNTRIES(code),\n",
    "FOREIGN KEY (dep_iata)\n",
    "REFERENCES AIRPORTS(iata_code),\n",
    "FOREIGN KEY (arr_iata)\n",
    "REFERENCES AIRPORTS(iata_code)\n",
    "\n",
    ");\n",
    "\n",
    "\n",
    "\"\"\"\n",
    "\n",
    "cursor.execute(create_FLIGHTS_SUMMARY)"
   ]
  }
 ],
 "metadata": {
  "kernelspec": {
   "display_name": "Python 3.10.5 64-bit",
   "language": "python",
   "name": "python3"
  },
  "language_info": {
   "codemirror_mode": {
    "name": "ipython",
    "version": 3
   },
   "file_extension": ".py",
   "mimetype": "text/x-python",
   "name": "python",
   "nbconvert_exporter": "python",
   "pygments_lexer": "ipython3",
   "version": "3.10.7"
  },
  "orig_nbformat": 4,
  "vscode": {
   "interpreter": {
    "hash": "e7370f93d1d0cde622a1f8e1c04877d8463912d04d973331ad4851f04de6915a"
   }
  }
 },
 "nbformat": 4,
 "nbformat_minor": 2
}

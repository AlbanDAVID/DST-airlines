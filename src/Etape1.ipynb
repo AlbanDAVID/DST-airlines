{
 "cells": [
  {
   "cell_type": "markdown",
   "id": "cd4ee0f0",
   "metadata": {},
   "source": [
    "# Etape 1 : Acquisition des données et découverte"
   ]
  },
  {
   "cell_type": "markdown",
   "id": "ca90ea62",
   "metadata": {},
   "source": [
    "## Les objectifs"
   ]
  },
  {
   "cell_type": "markdown",
   "id": "74e12073",
   "metadata": {},
   "source": [
    " - Définir le contexte et le périmètre du projet. \n",
    " - Prise en main des différentes sources de données(explorer les API fournis, les pages webs dont nous allons appliquer le webscraping (il faudra observer leur structure)).\n",
    " - Livrable attendu:  Fournir un rapport expliquant les différentes sources de données accompagné des exemples de données collectées."
   ]
  },
  {
   "cell_type": "markdown",
   "id": "916b5595",
   "metadata": {},
   "source": [
    "## Sommaire\n",
    "### I. Contexte et périmètre \n",
    "### II. Sources de données\n",
    "    a. API Lufthansa\n",
    "    b. Webscraping\n",
    "### III. Draft pipeline"
   ]
  },
  {
   "cell_type": "markdown",
   "id": "749dd825",
   "metadata": {},
   "source": [
    "## I. Contexte et périmètre "
   ]
  },
  {
   "cell_type": "markdown",
   "id": "ef7b527a",
   "metadata": {},
   "source": [
    "De nos jours, on est capable d’avoir des informations sur les **vols** dans le monde entier et de **traquer** la trajectoire de ces derniers en **temps réel**.\n",
    "L'objectif de ce projet est de **concevoir** et d'**implémenter** un **pipeline** de données qui permet la démonstration des possibilités sus-mentionnées notamment en **récoltant**,en **stockant** et en **consommant** ces données et les rendant disponibles sur un **Dashboard**. "
   ]
  },
  {
   "cell_type": "markdown",
   "id": "194c00f3",
   "metadata": {},
   "source": [
    "### to-do périmètre"
   ]
  },
  {
   "cell_type": "markdown",
   "id": "6484bf1c",
   "metadata": {},
   "source": [
    "## II. Sources de données"
   ]
  },
  {
   "cell_type": "markdown",
   "id": "550d0408",
   "metadata": {},
   "source": [
    "    a. API Lufthansa"
   ]
  },
  {
   "cell_type": "code",
   "execution_count": null,
   "id": "abd27b3f",
   "metadata": {},
   "outputs": [],
   "source": []
  }
 ],
 "metadata": {
  "kernelspec": {
   "display_name": "Python 3 (ipykernel)",
   "language": "python",
   "name": "python3"
  },
  "language_info": {
   "codemirror_mode": {
    "name": "ipython",
    "version": 3
   },
   "file_extension": ".py",
   "mimetype": "text/x-python",
   "name": "python",
   "nbconvert_exporter": "python",
   "pygments_lexer": "ipython3",
   "version": "3.9.12"
  }
 },
 "nbformat": 4,
 "nbformat_minor": 5
}
